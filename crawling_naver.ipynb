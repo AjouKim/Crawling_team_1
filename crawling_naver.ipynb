{
 "cells": [
  {
   "cell_type": "markdown",
   "metadata": {},
   "source": [
    "### project 01. 네이버 뉴스 웹사이트 크롤링 후 API로 전달\n",
    " \n",
    "\n",
    "#### 크롤링 [네이버 뉴스](https://news.naver.com/) \n",
    "- 도구 : 셀레늄\n",
    "    -  네이버 뉴스에서 최대한 많은 뉴스를 크롤링 가능한지 (ex. 업스테이지)\n",
    "        - 네이버 뉴스에서 크롤링 가능한지\n",
    "        - 최대한 많은 뉴스를 크롤링 할 수 있는지"
   ]
  },
  {
   "cell_type": "markdown",
   "metadata": {},
   "source": [
    "- visual studio code\n",
    "- python 3.11.7\n",
    "- selenium 4.19.0\n",
    "- APScheduler 3.10.4"
   ]
  },
  {
   "cell_type": "code",
   "execution_count": 1,
   "metadata": {},
   "outputs": [],
   "source": [
    "from selenium import webdriver\n",
    "from selenium.webdriver.common.by import By\n",
    "import pandas as pd\n",
    "import time\n",
    "from selenium.webdriver.common.keys import Keys"
   ]
  },
  {
   "cell_type": "code",
   "execution_count": 2,
   "metadata": {},
   "outputs": [],
   "source": [
    "# (1) 링크 생성 (네이버 뉴스)\n",
    "\n",
    "keyword = input(\"수집하고자 하는 앱 이름을 입력하세요 : \")\n",
    "url = f'https://search.naver.com/search.naver?where=news&ie=utf8&sm=nws_hty&query={keyword}'\n"
   ]
  },
  {
   "cell_type": "code",
   "execution_count": 3,
   "metadata": {},
   "outputs": [],
   "source": [
    "# (2) 브라우저를 열고, 페이지 이동\n",
    "browser = webdriver.Chrome()\n",
    "\n",
    "browser.get(url)"
   ]
  },
  {
   "cell_type": "code",
   "execution_count": null,
   "metadata": {},
   "outputs": [],
   "source": [
    "# (3) 주단위 선택(1주)\n",
    "browser.find_element(By.XPATH, '//*[@id=\"snb\"]/div[1]/div/div[2]/a').click()\n",
    "browser.find_element(By.XPATH, '//*[@id=\"snb\"]/div[2]/ul/li[3]/div/div[1]/a[4]').click()"
   ]
  },
  {
   "cell_type": "code",
   "execution_count": 10,
   "metadata": {},
   "outputs": [],
   "source": [
    "# 스크롤 다운(필요시 사용)\n",
    "\"\"\" \n",
    "body = browser.find_element(By.CSS_SELECTOR,'body')\n",
    "\n",
    "for i in range(4):\n",
    "    body.send_keys(Keys.PAGE_DOWN)\n",
    "\"\"\""
   ]
  },
  {
   "cell_type": "code",
   "execution_count": 11,
   "metadata": {},
   "outputs": [],
   "source": [
    "# (4) 뉴스기사 스크랩\n",
    "parent = browser.find_element(By.CLASS_NAME, \"list_news._infinite_list\").find_elements(By.CLASS_NAME, \"bx\")\n",
    "\n",
    "news_list = []\n",
    "\n",
    "for elem in parent:\n",
    "    \n",
    "    company = elem.find_element(By.CLASS_NAME, \"info.press\").text\n",
    "    headline = elem.find_element(By.CLASS_NAME, \"news_contents\").find_element(By.CLASS_NAME, \"news_tit\").text\n",
    "    News_summary = elem.find_element(By.CLASS_NAME, \"news_contents\").find_element(By.CLASS_NAME, \"api_txt_lines.dsc_txt_wrap\").text\n",
    "    link = elem.find_element(By.CLASS_NAME, \"news_contents\").find_element(By.CLASS_NAME, \"news_tit\").get_attribute('href')\n",
    "\n",
    "    news_list.append({\n",
    "        \"발행사\": company, \n",
    "        \"제목\": headline, \n",
    "        \"요약\": News_summary, \n",
    "        \"주소\" : link   \n",
    "    })"
   ]
  },
  {
   "cell_type": "code",
   "execution_count": null,
   "metadata": {},
   "outputs": [],
   "source": []
  },
  {
   "cell_type": "code",
   "execution_count": null,
   "metadata": {},
   "outputs": [],
   "source": []
  },
  {
   "cell_type": "code",
   "execution_count": 13,
   "metadata": {},
   "outputs": [],
   "source": [
    "# # 데이터 프레임 및 저장\n",
    "# df = pd.DataFrame(news_list)\n",
    "# df.to_csv(f'{keyword}.csv', encoding = 'utf-8-sig')"
   ]
  },
  {
   "cell_type": "code",
   "execution_count": 134,
   "metadata": {},
   "outputs": [
    {
     "data": {
      "text/plain": [
       "'매일경제'"
      ]
     },
     "execution_count": 134,
     "metadata": {},
     "output_type": "execute_result"
    }
   ],
   "source": [
    "# # 발행사\n",
    "# browser.find_element(By.CLASS_NAME, \"info.press\").text"
   ]
  },
  {
   "cell_type": "code",
   "execution_count": 87,
   "metadata": {},
   "outputs": [
    {
     "data": {
      "text/plain": [
       "'머니투데이17면 1단1일 전네이버뉴스'"
      ]
     },
     "execution_count": 87,
     "metadata": {},
     "output_type": "execute_result"
    }
   ],
   "source": [
    "# 게시일\n",
    "# browser.find_element(By.CLASS_NAME, \"info_group\").text"
   ]
  },
  {
   "attachments": {
    "image-2.png": {
     "image/png": "[encoded data removed]"
    },
    "image.png": {
     "image/png": "[encoded data removed]"
    }
   },
   "cell_type": "markdown",
   "metadata": {},
   "source": [
    "![image.png](attachment:image.png)\n",
    "  \n",
    "![image-2.png](attachment:image-2.png)\n",
    "\n",
    "게시일 위치가 달라서 우선은 패스할게요ㅜㅜ"
   ]
  },
  {
   "cell_type": "code",
   "execution_count": 135,
   "metadata": {},
   "outputs": [
    {
     "data": {
      "text/plain": [
       "'Law&Company teams up with Upstage to boost legal AI services'"
      ]
     },
     "execution_count": 135,
     "metadata": {},
     "output_type": "execute_result"
    }
   ],
   "source": [
    "# # 헤드라인\n",
    "# browser.find_element(By.CLASS_NAME, \"news_contents\").find_element(By.CLASS_NAME, \"news_tit\").text"
   ]
  },
  {
   "cell_type": "code",
   "execution_count": 136,
   "metadata": {},
   "outputs": [
    {
     "data": {
      "text/plain": [
       "'https://www.mk.co.kr/article/10962970'"
      ]
     },
     "execution_count": 136,
     "metadata": {},
     "output_type": "execute_result"
    }
   ],
   "source": [
    "# #링크\n",
    "# browser.find_element(By.CLASS_NAME, \"news_contents\").find_element(By.CLASS_NAME, \"news_tit\").get_attribute('href')"
   ]
  },
  {
   "cell_type": "code",
   "execution_count": 137,
   "metadata": {},
   "outputs": [
    {
     "data": {
      "text/plain": [
       "', operator of legal services platform LawTalk, is partnering with an artificial intelligence (AI) startup Upstage Co. to expand its presence in South Korea. The partnership comes as U.S.-based LexisNexis is set to launch its AI solution in Korea next week. is known...'"
      ]
     },
     "execution_count": 137,
     "metadata": {},
     "output_type": "execute_result"
    }
   ],
   "source": [
    "# # 요약\n",
    "# browser.find_element(By.CLASS_NAME, \"news_contents\").find_element(By.CLASS_NAME, \"api_txt_lines.dsc_txt_wrap\").text"
   ]
  },
  {
   "cell_type": "code",
   "execution_count": null,
   "metadata": {},
   "outputs": [],
   "source": []
  }
 ],
 "metadata": {
  "kernelspec": {
   "display_name": "base",
   "language": "python",
   "name": "python3"
  },
  "language_info": {
   "codemirror_mode": {
    "name": "ipython",
    "version": 3
   },
   "file_extension": ".py",
   "mimetype": "text/x-python",
   "name": "python",
   "nbconvert_exporter": "python",
   "pygments_lexer": "ipython3",
   "version": "3.11.7"
  }
 },
 "nbformat": 4,
 "nbformat_minor": 2
}
